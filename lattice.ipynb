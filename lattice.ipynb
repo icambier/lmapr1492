{
 "cells": [
  {
   "cell_type": "code",
   "execution_count": 95,
   "id": "enabling-digit",
   "metadata": {},
   "outputs": [],
   "source": [
    "from pymatgen import Lattice, Structure\n",
    "from pymatgen.symmetry.analyzer import SpacegroupAnalyzer\n",
    "\n",
    "from pymatgen.ext.matproj import MPRester\n",
    "from pymatgen.apps.borg.hive import VaspToComputedEntryDrone\n",
    "from pymatgen.apps.borg.queen import BorgQueen\n",
    "from pymatgen.entries.compatibility import MaterialsProjectCompatibility\n",
    "from pymatgen.analysis.phase_diagram import PhaseDiagram, PDPlotter\n",
    "from pymatgen.io.cif import CifWriter\n",
    "from pymatgen.io.vasp import Poscar\n",
    "from pymatgen.io.cif import CifParser\n",
    "import pymatgen.core.lattice"
   ]
  },
  {
   "cell_type": "code",
   "execution_count": 96,
   "id": "stainless-rally",
   "metadata": {},
   "outputs": [],
   "source": [
    "with MPRester(\"h54Ug2jjGzJ0JQCCfHsG\") as m:\n",
    "\n",
    "    # Structure for material id\n",
    "    structure = m.get_structure_by_material_id(\"mp-7581\")\n",
    "\n",
    "    # Dos for material id\n",
    "    dos = m.get_dos_by_material_id(\"mp-7581\")\n",
    "\n",
    "    # Bandstructure for material id\n",
    "    bandstructure = m.get_bandstructure_by_material_id(\"mp-7581\")\n",
    "    \n",
    "    w = CifWriter(structure,symprec=1e-3);\n",
    "    w.write_file('MoSe2.cif')"
   ]
  },
  {
   "cell_type": "code",
   "execution_count": 97,
   "id": "consecutive-raise",
   "metadata": {},
   "outputs": [],
   "source": [
    "structure = Structure.from_file('MoSe2.cif')"
   ]
  },
  {
   "cell_type": "code",
   "execution_count": 98,
   "id": "homeless-september",
   "metadata": {},
   "outputs": [
    {
     "name": "stdout",
     "output_type": "stream",
     "text": [
      "Les vecteurs de bases du réseau direct sont (a,b,c) par ligne : \n",
      " 3.327787 0.000000 0.000000\n",
      "-1.663894 2.881948 0.000000\n",
      "0.000000 0.000000 22.087988\n"
     ]
    }
   ],
   "source": [
    "#déterminer les vecteurs de bases du réseau direct\n",
    "\n",
    "a = structure.lattice\n",
    "print(\"Les vecteurs de bases du réseau direct sont (a,b,c) par ligne : \\n\",a)"
   ]
  },
  {
   "cell_type": "code",
   "execution_count": 99,
   "id": "internal-accounting",
   "metadata": {},
   "outputs": [
    {
     "name": "stdout",
     "output_type": "stream",
     "text": [
      "Les vecteurs de bases du réseau réciproque sont (a,b,c) par ligne : \n",
      " 3.327787 0.000000 0.000000\n",
      "-1.663894 2.881948 0.000000\n",
      "0.000000 0.000000 22.087988\n"
     ]
    }
   ],
   "source": [
    "#déterminer les vecteurs de bases du réseau réciproque\n",
    "\n",
    "b = a.reciprocal_lattice\n",
    "print(\"Les vecteurs de bases du réseau réciproque sont (a,b,c) par ligne : \\n\",a)"
   ]
  },
  {
   "cell_type": "code",
   "execution_count": 100,
   "id": "noted-wagner",
   "metadata": {},
   "outputs": [
    {
     "name": "stdout",
     "output_type": "stream",
     "text": [
      "The lattice for the structure of MoSe2 is rhombohedral\n"
     ]
    }
   ],
   "source": [
    "#déterminer son type de maille\n",
    "\n",
    "finder = SpacegroupAnalyzer(structure)\n",
    "maille = finder.get_lattice_type()\n",
    "\n",
    "print(\"The lattice for the structure of MoSe2 is\", maille)\n"
   ]
  },
  {
   "cell_type": "code",
   "execution_count": 101,
   "id": "sexual-standard",
   "metadata": {},
   "outputs": [
    {
     "name": "stdout",
     "output_type": "stream",
     "text": [
      "The crystal system of MoSe2 is trigonal\n"
     ]
    }
   ],
   "source": [
    "#déterminer son système cristallin\n",
    "\n",
    "crystal_system = finder.get_crystal_system()\n",
    "print(\"The crystal system of MoSe2 is\", crystal_system)"
   ]
  },
  {
   "cell_type": "code",
   "execution_count": 102,
   "id": "prompt-microphone",
   "metadata": {},
   "outputs": [
    {
     "name": "stdout",
     "output_type": "stream",
     "text": [
      "The point group of MoSe2 is 3m\n"
     ]
    }
   ],
   "source": [
    "#déterminer son groupe ponctuel\n",
    "\n",
    "groupe_ponctuel = finder.get_point_group_symbol()\n",
    "print(\"The point group of MoSe2 is\", groupe_ponctuel)"
   ]
  },
  {
   "cell_type": "code",
   "execution_count": null,
   "id": "undefined-cover",
   "metadata": {},
   "outputs": [],
   "source": []
  }
 ],
 "metadata": {
  "kernelspec": {
   "display_name": "Python 3",
   "language": "python",
   "name": "python3"
  },
  "language_info": {
   "codemirror_mode": {
    "name": "ipython",
    "version": 3
   },
   "file_extension": ".py",
   "mimetype": "text/x-python",
   "name": "python",
   "nbconvert_exporter": "python",
   "pygments_lexer": "ipython3",
   "version": "3.6.8"
  }
 },
 "nbformat": 4,
 "nbformat_minor": 5
}
