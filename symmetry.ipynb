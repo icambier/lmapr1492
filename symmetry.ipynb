{
 "cells": [
  {
   "cell_type": "code",
   "execution_count": 87,
   "id": "liquid-bradford",
   "metadata": {},
   "outputs": [],
   "source": [
    "from pymatgen import Lattice, Structure\n",
    "from pymatgen.symmetry.analyzer import SpacegroupAnalyzer\n",
    "from pymatgen.ext.matproj import MPRester\n",
    "from pymatgen.core.operations import SymmOp\n",
    "from pymatgen.symmetry.site_symmetries import *\n",
    "from pymatgen.io.cif import CifWriter\n",
    "from pymatgen.io.vasp import Poscar\n",
    "from pymatgen.io.cif import CifParser\n",
    "from jupyter_jsmol.pymatgen import quick_view\n",
    "\n",
    "#Iris CAMBIER \n",
    "#Tâche 6 "
   ]
  },
  {
   "cell_type": "markdown",
   "id": "likely-confusion",
   "metadata": {},
   "source": [
    "# Téléchargement du fichier CIF symmetrized du MoSe2"
   ]
  },
  {
   "cell_type": "code",
   "execution_count": 70,
   "id": "employed-brooklyn",
   "metadata": {},
   "outputs": [],
   "source": [
    "with MPRester(\"h54Ug2jjGzJ0JQCCfHsG\") as m:\n",
    "\n",
    "    # Structure for material id\n",
    "    structure = m.get_structure_by_material_id(\"mp-7581\")\n",
    "    \n",
    "    w = CifWriter(structure,symprec=1e-3);\n",
    "    w.write_file('MoSe2.cif')\n",
    "structure = Structure.from_file('MoSe2.cif')"
   ]
  },
  {
   "cell_type": "markdown",
   "id": "superior-business",
   "metadata": {},
   "source": [
    "# Choix des éléments de symétrie"
   ]
  },
  {
   "cell_type": "code",
   "execution_count": 71,
   "id": "sought-tennis",
   "metadata": {},
   "outputs": [],
   "source": [
    "get_sym = SpacegroupAnalyzer(structure).get_symmetry_operations()\n",
    "\n",
    "sym1 = get_sym[6]\n",
    "sym2 = get_sym[1]\n",
    "sym3 = get_sym[4]"
   ]
  },
  {
   "cell_type": "markdown",
   "id": "oriental-payday",
   "metadata": {},
   "source": [
    "# Choix des atomes "
   ]
  },
  {
   "cell_type": "code",
   "execution_count": 72,
   "id": "dominant-supplement",
   "metadata": {},
   "outputs": [],
   "source": [
    "Mo1 = [0.33333, 0.66667, 0.33333]\n",
    "Se1 = [0.33333, 0.66667, 0.07585]\n",
    "Se2 = [0.66667, 0.33333, 0.59104]"
   ]
  },
  {
   "cell_type": "markdown",
   "id": "irish-publicity",
   "metadata": {},
   "source": [
    "# Application des symétries aux atomes "
   ]
  },
  {
   "cell_type": "code",
   "execution_count": 73,
   "id": "electoral-control",
   "metadata": {},
   "outputs": [],
   "source": [
    "Mo1_app = sym1.operate(Mo1)\n",
    "Se1_app = sym2.operate(Se1)\n",
    "Se2_app = sym3.operate(Se2)"
   ]
  },
  {
   "cell_type": "markdown",
   "id": "known-right",
   "metadata": {},
   "source": [
    "# Résultat de l'application de la 1ère symétrie : la TRANSLATION\n"
   ]
  },
  {
   "cell_type": "markdown",
   "id": "adjacent-administrator",
   "metadata": {},
   "source": [
    "$$\n",
    "\\left(\\begin{array}{cc} \n",
    "1 & 0 & 0\\\\\n",
    "0 & 1 & 0\\\\\n",
    "0 & 0 & 1\\\\\n",
    "\\end{array}\\right)\n",
    "\\left(\\begin{array}{cc} \n",
    "x\\\\ \n",
    "y\\\\\n",
    "z\\\\\n",
    "\\end{array}\\right)\n",
    "+ \n",
    "\\left(\\begin{array}{cc} \n",
    "2/3\\\\ \n",
    "1/3\\\\\n",
    "1/3\\\\\n",
    "\\end{array}\\right)\n",
    "= \n",
    "\\left(\\begin{array}{cc} \n",
    "x + 2/3\\\\ \n",
    "y + 1/3\\\\\n",
    "z + 1/3\\\\\n",
    "\\end{array}\\right)\n",
    "$$"
   ]
  },
  {
   "cell_type": "code",
   "execution_count": 78,
   "id": "absent-designation",
   "metadata": {},
   "outputs": [
    {
     "name": "stdout",
     "output_type": "stream",
     "text": [
      "L'atome Mo de départ a pour coordonnées [0.33333, 0.66667, 0.33333] \n",
      "\n",
      "On lui applique la première symétrie 'x+2/3, y+1/3, z+1/3' : qui est caractérisée par cette matrice de rotation et ce vecteur de translation : \n",
      " Rot:\n",
      "[[1. 0. 0.]\n",
      " [0. 1. 0.]\n",
      " [0. 0. 1.]]\n",
      "tau\n",
      "[0.66666667 0.33333333 0.33333333] \n",
      "\n",
      "Comme la matrice de rotation est la matrice identité, nous savons qu'il n'y a pas eu de rotation. Le vecteur tau caractérisant la translation est, quant à lui, non nul donc nous observons bien une translation de vecteur [2/3 1/3 1/3]. \n",
      "\n",
      "Grâce à cette symétrie le premier atome de Mo est envoyé sur l'autre atome de Mo dans la maille primitive adjacente. \n",
      "\n",
      "L'atome de Mo a maintenant comme coordonnées : [0.99999667 1.00000333 0.66666333]\n"
     ]
    },
    {
     "data": {
      "application/vnd.jupyter.widget-view+json": {
       "model_id": "6e9cc09857a14ffdaa8406b503e585e4",
       "version_major": 2,
       "version_minor": 0
      },
      "text/plain": [
       "JsmolView(layout=Layout(align_self='stretch', height='400px'))"
      ]
     },
     "metadata": {},
     "output_type": "display_data"
    }
   ],
   "source": [
    "print(\"L'atome Mo de départ a pour coordonnées\", Mo1, \"\\n\")\n",
    "print(\"On lui applique la première symétrie 'x+2/3, y+1/3, z+1/3' : qui est caractérisée par cette matrice de rotation et ce vecteur de translation : \\n\", sym1, \"\\n\")\n",
    "print(\"Comme la matrice de rotation est la matrice identité, nous savons qu'il n'y a pas eu de rotation. Le vecteur tau caractérisant la translation est, quant à lui, non nul donc nous observons bien une translation de vecteur [2/3 1/3 1/3]. \\n\")\n",
    "print(\"Grâce à cette symétrie le premier atome de Mo est envoyé sur l'autre atome de Mo dans la maille primitive adjacente. \\n\")\n",
    "print(\"L'atome de Mo a maintenant comme coordonnées :\", Mo1_app)\n",
    "view = quick_view(structure)\n",
    "display(view)"
   ]
  },
  {
   "cell_type": "code",
   "execution_count": 79,
   "id": "social-questionnaire",
   "metadata": {},
   "outputs": [],
   "source": [
    "view.script(\"draw symop 7 {atomno=7}\")"
   ]
  },
  {
   "cell_type": "markdown",
   "id": "synthetic-carnival",
   "metadata": {},
   "source": [
    "# Résultat de l'application de la 2ème symétrie : la ROTATION D'ORDRE 3"
   ]
  },
  {
   "cell_type": "markdown",
   "id": "continued-plaza",
   "metadata": {},
   "source": [
    "$$\n",
    "\\left(\\begin{array}{cc} \n",
    "0 & -1 & 0\\\\\n",
    "1 & -1 & 0\\\\\n",
    "0 & 0 & 1\\\\\n",
    "\\end{array}\\right)\n",
    "\\left(\\begin{array}{cc} \n",
    "x\\\\ \n",
    "y\\\\\n",
    "z\\\\\n",
    "\\end{array}\\right)\n",
    "+ \n",
    "\\left(\\begin{array}{cc} \n",
    "0\\\\ \n",
    "0\\\\\n",
    "0\\\\\n",
    "\\end{array}\\right)\n",
    "= \n",
    "\\left(\\begin{array}{cc} \n",
    "-y\\\\ \n",
    "x-y\\\\\n",
    "z\\\\\n",
    "\\end{array}\\right)\n",
    "$$"
   ]
  },
  {
   "cell_type": "code",
   "execution_count": 80,
   "id": "injured-earth",
   "metadata": {},
   "outputs": [
    {
     "name": "stdout",
     "output_type": "stream",
     "text": [
      "L'atome Se de départ a pour coordonnées [0.33333, 0.66667, 0.07585] \n",
      "\n",
      "On lui applique la deuxième symétrie '-y, x-y, z': qui est caractérisée par cette matrice de rotation et ce vecteur translation : \n",
      " Rot:\n",
      "[[ 0. -1.  0.]\n",
      " [ 1. -1.  0.]\n",
      " [ 0.  0.  1.]]\n",
      "tau\n",
      "[0. 0. 0.] \n",
      "\n",
      "Nous observons qu'il n'y a pas de translation mais seulement une rotation. L'axe de rotation est le vecteur de base c. Cette symétrie est appelée une rotation d'ordre 3. Nous confirmons notre propos en vérifiant que le déterminant de notre matrice est bien 1 et que sa trace est nulle. \n",
      "\n",
      "Cette symétrie envoie l'atome de Se sur l'atome de Se équivalent de la maille primitive adjacente. \n",
      "\n",
      "L'atome de Se a maintenant comme coordonnées : [-0.66667 -0.33334  0.07585] \n",
      "\n"
     ]
    },
    {
     "data": {
      "application/vnd.jupyter.widget-view+json": {
       "model_id": "caf2054ac4f147b586e8e2019f53588a",
       "version_major": 2,
       "version_minor": 0
      },
      "text/plain": [
       "JsmolView(layout=Layout(align_self='stretch', height='400px'))"
      ]
     },
     "metadata": {},
     "output_type": "display_data"
    }
   ],
   "source": [
    "print(\"L'atome Se de départ a pour coordonnées\", Se1,\"\\n\")\n",
    "print(\"On lui applique la deuxième symétrie '-y, x-y, z': qui est caractérisée par cette matrice de rotation et ce vecteur translation : \\n\", sym2,\"\\n\")\n",
    "print(\"Nous observons qu'il n'y a pas de translation mais seulement une rotation. L'axe de rotation est le vecteur de base c. Cette symétrie est appelée une rotation d'ordre 3. Nous confirmons notre propos en vérifiant que le déterminant de notre matrice est bien 1 et que sa trace est nulle. \\n\")\n",
    "print(\"Cette symétrie envoie l'atome de Se sur l'atome de Se équivalent de la maille primitive adjacente. \\n\")\n",
    "print(\"L'atome de Se a maintenant comme coordonnées :\", Se1_app,\"\\n\")\n",
    "view = quick_view(structure)\n",
    "display(view)"
   ]
  },
  {
   "cell_type": "code",
   "execution_count": 81,
   "id": "sealed-panel",
   "metadata": {},
   "outputs": [],
   "source": [
    "view.script(\"draw symop 2 {atomno=9}\")"
   ]
  },
  {
   "cell_type": "markdown",
   "id": "august-surprise",
   "metadata": {},
   "source": [
    "# Résultat de l'application de la 3ème symétrie : PLAN MIROIR ou ROTO-INVERSION D'ORDRE 2"
   ]
  },
  {
   "cell_type": "markdown",
   "id": "honest-recall",
   "metadata": {},
   "source": [
    "$$\n",
    "\\left(\\begin{array}{cc} \n",
    "-1 & 1 & 0\\\\\n",
    "0 & 1 & 0\\\\\n",
    "0 & 0 & 1\\\\\n",
    "\\end{array}\\right)\n",
    "\\left(\\begin{array}{cc} \n",
    "x\\\\ \n",
    "y\\\\\n",
    "z\\\\\n",
    "\\end{array}\\right)\n",
    "+ \n",
    "\\left(\\begin{array}{cc} \n",
    "0\\\\ \n",
    "0\\\\\n",
    "0\\\\\n",
    "\\end{array}\\right)\n",
    "= \n",
    "\\left(\\begin{array}{cc} \n",
    "-x+y\\\\ \n",
    "y\\\\\n",
    "z\\\\\n",
    "\\end{array}\\right)\n",
    "$$"
   ]
  },
  {
   "cell_type": "code",
   "execution_count": 85,
   "id": "offensive-massage",
   "metadata": {},
   "outputs": [
    {
     "name": "stdout",
     "output_type": "stream",
     "text": [
      "L'atome Se de départ a pour coordonnées [0.66667, 0.33333, 0.59104] \n",
      "\n",
      "On lui applique la troisième symétrie '-x+y, y, z' : qui est caractérisée par cette matrice de rotation et ce vecteur de translation : \n",
      " Rot:\n",
      "[[-1.  1.  0.]\n",
      " [ 0.  1.  0.]\n",
      " [ 0.  0.  1.]]\n",
      "tau\n",
      "[0. 0. 0.] \n",
      "\n",
      "Cette symétrie est appelée plan miroir. Plus précisément, il s'agit d'un plan miroir contenant l'axe c et étant perpendiculaire au plan ac. \n",
      "\n",
      "Le déterminant de cette matrice vaut -1, il s'agit bien d'un  plan miroir qu'on peut aussi appelé roto-inversion d'ordre 2.\n",
      "Nous observons que l'atome choisi est envoyé sur l'atome équivalent à celui-ci dans la cellule unité adjacente. \n",
      "\n",
      "L'atome de Se a maintenant comme coordonnées : [-0.33334  0.33333  0.59104] \n",
      "\n"
     ]
    },
    {
     "data": {
      "application/vnd.jupyter.widget-view+json": {
       "model_id": "fc36076d9da547cea414137e400bf47a",
       "version_major": 2,
       "version_minor": 0
      },
      "text/plain": [
       "JsmolView(layout=Layout(align_self='stretch', height='400px'))"
      ]
     },
     "metadata": {},
     "output_type": "display_data"
    }
   ],
   "source": [
    "print(\"L'atome Se de départ a pour coordonnées\", Se2, \"\\n\")\n",
    "print(\"On lui applique la troisième symétrie '-x+y, y, z' : qui est caractérisée par cette matrice de rotation et ce vecteur de translation : \\n\", sym3,\"\\n\")\n",
    "print(\"Cette symétrie est appelée plan miroir. Plus précisément, il s'agit d'un plan miroir contenant l'axe c et étant perpendiculaire au plan ac. \\n\")\n",
    "print(\"Le déterminant de cette matrice vaut -1, il s'agit bien d'un  plan miroir qu'on peut aussi appelé roto-inversion d'ordre 2.\")\n",
    "print(\"Nous observons que l'atome choisi est envoyé sur l'atome équivalent à celui-ci dans la cellule unité adjacente. \\n\")\n",
    "print(\"L'atome de Se a maintenant comme coordonnées :\", Se2_app, \"\\n\")\n",
    "\n",
    "view = quick_view(structure)\n",
    "display(view)"
   ]
  },
  {
   "cell_type": "code",
   "execution_count": 86,
   "id": "amazing-subscription",
   "metadata": {},
   "outputs": [],
   "source": [
    "view.script(\"draw symop 5 {atomno=5}\")"
   ]
  }
 ],
 "metadata": {
  "kernelspec": {
   "display_name": "Python 3",
   "language": "python",
   "name": "python3"
  },
  "language_info": {
   "codemirror_mode": {
    "name": "ipython",
    "version": 3
   },
   "file_extension": ".py",
   "mimetype": "text/x-python",
   "name": "python",
   "nbconvert_exporter": "python",
   "pygments_lexer": "ipython3",
   "version": "3.6.8"
  }
 },
 "nbformat": 4,
 "nbformat_minor": 5
}
